{
 "metadata": {
  "language_info": {
   "codemirror_mode": {
    "name": "ipython",
    "version": 3
   },
   "file_extension": ".py",
   "mimetype": "text/x-python",
   "name": "python",
   "nbconvert_exporter": "python",
   "pygments_lexer": "ipython3",
   "version": "3.9.1"
  },
  "orig_nbformat": 2,
  "kernelspec": {
   "name": "python391jvsc74a57bd08da01e5a71448ea74f54d88afa8911010d1d12e23bc7e103d40d5def4a09152c",
   "display_name": "Python 3.9.1 64-bit"
  }
 },
 "nbformat": 4,
 "nbformat_minor": 2,
 "cells": [
  {
   "cell_type": "code",
   "execution_count": 1,
   "metadata": {},
   "outputs": [],
   "source": [
    "import pandas as pd"
   ]
  },
  {
   "cell_type": "code",
   "execution_count": 9,
   "metadata": {},
   "outputs": [],
   "source": [
    "data = pd.read_csv(\"Gandum.csv\")\r\n",
    "data.columns = [\"id\", \"Daerah\", \"SumbuUtama\", \"SumbuKecil\", \"Keunikan\", \"AreaBulatan\", \"Diameter\", \"KadarAir\", \"Keliling\", \"Bulatan\", \"Ransum\", \"Kelas\"]"
   ]
  },
  {
   "cell_type": "code",
   "execution_count": 10,
   "metadata": {},
   "outputs": [
    {
     "output_type": "execute_result",
     "data": {
      "text/plain": [
       "                1         5781  128.2888753  58.47084588  0.890095088  \\\n",
       "count  499.000000   499.000000   499.000000   499.000000   499.000000   \n",
       "mean   251.000000  4799.282565   116.020635    53.705716     0.878741   \n",
       "std    144.193157   986.406825    18.292730     4.069573     0.036619   \n",
       "min      2.000000  2522.000000    74.133114    39.906517     0.719916   \n",
       "25%    126.500000  4042.500000   104.063393    51.192400     0.863673   \n",
       "50%    251.000000  4733.000000   115.396744    53.727453     0.889996   \n",
       "75%    375.500000  5492.500000   129.055961    56.309070     0.907613   \n",
       "max    500.000000  7453.000000   227.928583    68.977700     0.914001   \n",
       "\n",
       "              5954  85.79392641  0.674090485     316.756  0.724040956  \\\n",
       "count   499.000000   499.000000   499.000000  499.000000   499.000000   \n",
       "mean   4935.010020    77.755080     0.648320  281.409028     0.761813   \n",
       "std    1011.683617     8.056920     0.094455   37.339355     0.061741   \n",
       "min    2579.000000    56.666658     0.409927  197.015000     0.174590   \n",
       "25%    4166.500000    71.743089     0.572602  255.854000     0.732088   \n",
       "50%    4855.000000    77.628878     0.625731  279.955000     0.761403   \n",
       "75%    5650.000000    83.625761     0.726830  305.786500     0.796387   \n",
       "max    7720.000000    97.413830     0.878899  488.837000     0.904748   \n",
       "\n",
       "       2.194065664         1.1  \n",
       "count   499.000000  499.000000  \n",
       "mean      2.150829    1.503006  \n",
       "std       0.250010    0.500493  \n",
       "min       1.440796    1.000000  \n",
       "25%       1.983917    1.000000  \n",
       "50%       2.193132    2.000000  \n",
       "75%       2.382048    2.000000  \n",
       "max       2.464809    2.000000  "
      ],
      "text/html": "<div>\n<style scoped>\n    .dataframe tbody tr th:only-of-type {\n        vertical-align: middle;\n    }\n\n    .dataframe tbody tr th {\n        vertical-align: top;\n    }\n\n    .dataframe thead th {\n        text-align: right;\n    }\n</style>\n<table border=\"1\" class=\"dataframe\">\n  <thead>\n    <tr style=\"text-align: right;\">\n      <th></th>\n      <th>1</th>\n      <th>5781</th>\n      <th>128.2888753</th>\n      <th>58.47084588</th>\n      <th>0.890095088</th>\n      <th>5954</th>\n      <th>85.79392641</th>\n      <th>0.674090485</th>\n      <th>316.756</th>\n      <th>0.724040956</th>\n      <th>2.194065664</th>\n      <th>1.1</th>\n    </tr>\n  </thead>\n  <tbody>\n    <tr>\n      <th>count</th>\n      <td>499.000000</td>\n      <td>499.000000</td>\n      <td>499.000000</td>\n      <td>499.000000</td>\n      <td>499.000000</td>\n      <td>499.000000</td>\n      <td>499.000000</td>\n      <td>499.000000</td>\n      <td>499.000000</td>\n      <td>499.000000</td>\n      <td>499.000000</td>\n      <td>499.000000</td>\n    </tr>\n    <tr>\n      <th>mean</th>\n      <td>251.000000</td>\n      <td>4799.282565</td>\n      <td>116.020635</td>\n      <td>53.705716</td>\n      <td>0.878741</td>\n      <td>4935.010020</td>\n      <td>77.755080</td>\n      <td>0.648320</td>\n      <td>281.409028</td>\n      <td>0.761813</td>\n      <td>2.150829</td>\n      <td>1.503006</td>\n    </tr>\n    <tr>\n      <th>std</th>\n      <td>144.193157</td>\n      <td>986.406825</td>\n      <td>18.292730</td>\n      <td>4.069573</td>\n      <td>0.036619</td>\n      <td>1011.683617</td>\n      <td>8.056920</td>\n      <td>0.094455</td>\n      <td>37.339355</td>\n      <td>0.061741</td>\n      <td>0.250010</td>\n      <td>0.500493</td>\n    </tr>\n    <tr>\n      <th>min</th>\n      <td>2.000000</td>\n      <td>2522.000000</td>\n      <td>74.133114</td>\n      <td>39.906517</td>\n      <td>0.719916</td>\n      <td>2579.000000</td>\n      <td>56.666658</td>\n      <td>0.409927</td>\n      <td>197.015000</td>\n      <td>0.174590</td>\n      <td>1.440796</td>\n      <td>1.000000</td>\n    </tr>\n    <tr>\n      <th>25%</th>\n      <td>126.500000</td>\n      <td>4042.500000</td>\n      <td>104.063393</td>\n      <td>51.192400</td>\n      <td>0.863673</td>\n      <td>4166.500000</td>\n      <td>71.743089</td>\n      <td>0.572602</td>\n      <td>255.854000</td>\n      <td>0.732088</td>\n      <td>1.983917</td>\n      <td>1.000000</td>\n    </tr>\n    <tr>\n      <th>50%</th>\n      <td>251.000000</td>\n      <td>4733.000000</td>\n      <td>115.396744</td>\n      <td>53.727453</td>\n      <td>0.889996</td>\n      <td>4855.000000</td>\n      <td>77.628878</td>\n      <td>0.625731</td>\n      <td>279.955000</td>\n      <td>0.761403</td>\n      <td>2.193132</td>\n      <td>2.000000</td>\n    </tr>\n    <tr>\n      <th>75%</th>\n      <td>375.500000</td>\n      <td>5492.500000</td>\n      <td>129.055961</td>\n      <td>56.309070</td>\n      <td>0.907613</td>\n      <td>5650.000000</td>\n      <td>83.625761</td>\n      <td>0.726830</td>\n      <td>305.786500</td>\n      <td>0.796387</td>\n      <td>2.382048</td>\n      <td>2.000000</td>\n    </tr>\n    <tr>\n      <th>max</th>\n      <td>500.000000</td>\n      <td>7453.000000</td>\n      <td>227.928583</td>\n      <td>68.977700</td>\n      <td>0.914001</td>\n      <td>7720.000000</td>\n      <td>97.413830</td>\n      <td>0.878899</td>\n      <td>488.837000</td>\n      <td>0.904748</td>\n      <td>2.464809</td>\n      <td>2.000000</td>\n    </tr>\n  </tbody>\n</table>\n</div>"
     },
     "metadata": {},
     "execution_count": 10
    }
   ],
   "source": [
    "data.describe()"
   ]
  }
 ]
}