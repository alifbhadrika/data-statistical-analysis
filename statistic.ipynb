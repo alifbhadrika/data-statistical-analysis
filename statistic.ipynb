{
 "metadata": {
  "language_info": {
   "codemirror_mode": {
    "name": "ipython",
    "version": 3
   },
   "file_extension": ".py",
   "mimetype": "text/x-python",
   "name": "python",
   "nbconvert_exporter": "python",
   "pygments_lexer": "ipython3",
   "version": "3.9.1"
  },
  "orig_nbformat": 2,
  "kernelspec": {
   "name": "python391jvsc74a57bd08da01e5a71448ea74f54d88afa8911010d1d12e23bc7e103d40d5def4a09152c",
   "display_name": "Python 3.9.1 64-bit"
  }
 },
 "nbformat": 4,
 "nbformat_minor": 2,
 "cells": [
  {
   "cell_type": "code",
   "execution_count": 19,
   "metadata": {},
   "outputs": [],
   "source": [
    "import pandas as pd"
   ]
  },
  {
   "cell_type": "code",
   "execution_count": 20,
   "metadata": {},
   "outputs": [],
   "source": [
    "data = pd.read_csv(\"Gandum.csv\")\n",
    "data.columns = [\"id\", \"Daerah\", \"SumbuUtama\", \"SumbuKecil\", \"Keunikan\", \"AreaBulatan\", \"Diameter\", \"KadarAir\", \"Keliling\", \"Bulatan\", \"Ransum\", \"Kelas\"]"
   ]
  },
  {
   "source": [
    "# Descriptive Statistics\n",
    "Menulis deskripsi statistika (Descriptive Statistics) dari semua kolom pada data yang bersifat\n",
    "numerik, terdiri dari mean, median, modus, standar deviasi, variansi, range, nilai minimum,\n",
    "maksimum, kuartil, IQR, skewness dan kurtosis."
   ],
   "cell_type": "markdown",
   "metadata": {}
  },
  {
   "cell_type": "code",
   "execution_count": 111,
   "metadata": {},
   "outputs": [],
   "source": [
    "def createData(colname):\n",
    "    attr = data[colname]\n",
    "    desc = attr.describe()\n",
    "    newData = [desc[1], desc[5], attr.mode()[0], desc[2], attr.var(), attr.max() - attr.min(), attr.min(), attr.max(), desc[4], desc[5], desc[6], desc[6] - desc[4], attr.skew(), attr.kurtosis()]\n",
    "    return newData"
   ]
  },
  {
   "cell_type": "code",
   "execution_count": 112,
   "metadata": {},
   "outputs": [],
   "source": [
    "descstats = []\n",
    "for i in range (data.columns.size):\n",
    "    if i in [0,1]:\n",
    "        continue\n",
    "    else:\n",
    "        newdata = createData(data.columns[i])\n",
    "        descstats.append(newdata)"
   ]
  },
  {
   "cell_type": "code",
   "execution_count": 113,
   "metadata": {},
   "outputs": [
    {
     "output_type": "execute_result",
     "data": {
      "text/plain": [
       "          SumbuUtama  SumbuKecil  Keunikan   AreaBulatan   Diameter  KadarAir  \\\n",
       "Mean      116.020635   53.705716  0.878741  4.935010e+03  77.755080  0.648320   \n",
       "Median    115.396744   53.727453  0.889996  4.855000e+03  77.628878  0.625731   \n",
       "Modus      74.133114   39.906517  0.719916  3.802000e+03  71.293564  0.735849   \n",
       "STD        18.292730    4.069573  0.036619  1.011684e+03   8.056920  0.094455   \n",
       "Variansi  334.623982   16.561426  0.001341  1.023504e+06  64.913953  0.008922   \n",
       "Range     153.795469   29.071182  0.194085  5.141000e+03  40.747172  0.468972   \n",
       "Min        74.133114   39.906517  0.719916  2.579000e+03  56.666658  0.409927   \n",
       "Max       227.928583   68.977700  0.914001  7.720000e+03  97.413830  0.878899   \n",
       "25%       104.063393   51.192400  0.863673  4.166500e+03  71.743089  0.572602   \n",
       "50%       115.396744   53.727453  0.889996  4.855000e+03  77.628878  0.625731   \n",
       "75%       129.055961   56.309070  0.907613  5.650000e+03  83.625761  0.726830   \n",
       "IQR        24.992568    5.116671  0.043941  1.483500e+03  11.882671  0.154228   \n",
       "Skewness    0.765236   -0.007025 -1.620518  2.621088e-01   0.006750  0.494884   \n",
       "Kurtosis    4.332895    0.483912  2.903678 -4.042606e-01  -0.463340 -0.743118   \n",
       "\n",
       "             Keliling    Bulatan    Ransum     Kelas  \n",
       "Mean       281.409028   0.761813  2.150829  1.503006  \n",
       "Median     279.955000   0.761403  2.193132  2.000000  \n",
       "Modus      197.015000   0.174590  1.440796  2.000000  \n",
       "STD         37.339355   0.061741  0.250010  0.500493  \n",
       "Variansi  1394.227447   0.003812  0.062505  0.250493  \n",
       "Range      291.822000   0.730158  1.024013  1.000000  \n",
       "Min        197.015000   0.174590  1.440796  1.000000  \n",
       "Max        488.837000   0.904748  2.464809  2.000000  \n",
       "25%        255.854000   0.732088  1.983917  1.000000  \n",
       "50%        279.955000   0.761403  2.193132  2.000000  \n",
       "75%        305.786500   0.796387  2.382048  2.000000  \n",
       "IQR         49.932500   0.064299  0.398130  1.000000  \n",
       "Skewness     0.738875  -3.602930 -0.656561 -0.012061  \n",
       "Kurtosis     2.285155  29.976634 -0.434428 -2.007918  "
      ],
      "text/html": "<div>\n<style scoped>\n    .dataframe tbody tr th:only-of-type {\n        vertical-align: middle;\n    }\n\n    .dataframe tbody tr th {\n        vertical-align: top;\n    }\n\n    .dataframe thead th {\n        text-align: right;\n    }\n</style>\n<table border=\"1\" class=\"dataframe\">\n  <thead>\n    <tr style=\"text-align: right;\">\n      <th></th>\n      <th>SumbuUtama</th>\n      <th>SumbuKecil</th>\n      <th>Keunikan</th>\n      <th>AreaBulatan</th>\n      <th>Diameter</th>\n      <th>KadarAir</th>\n      <th>Keliling</th>\n      <th>Bulatan</th>\n      <th>Ransum</th>\n      <th>Kelas</th>\n    </tr>\n  </thead>\n  <tbody>\n    <tr>\n      <th>Mean</th>\n      <td>116.020635</td>\n      <td>53.705716</td>\n      <td>0.878741</td>\n      <td>4.935010e+03</td>\n      <td>77.755080</td>\n      <td>0.648320</td>\n      <td>281.409028</td>\n      <td>0.761813</td>\n      <td>2.150829</td>\n      <td>1.503006</td>\n    </tr>\n    <tr>\n      <th>Median</th>\n      <td>115.396744</td>\n      <td>53.727453</td>\n      <td>0.889996</td>\n      <td>4.855000e+03</td>\n      <td>77.628878</td>\n      <td>0.625731</td>\n      <td>279.955000</td>\n      <td>0.761403</td>\n      <td>2.193132</td>\n      <td>2.000000</td>\n    </tr>\n    <tr>\n      <th>Modus</th>\n      <td>74.133114</td>\n      <td>39.906517</td>\n      <td>0.719916</td>\n      <td>3.802000e+03</td>\n      <td>71.293564</td>\n      <td>0.735849</td>\n      <td>197.015000</td>\n      <td>0.174590</td>\n      <td>1.440796</td>\n      <td>2.000000</td>\n    </tr>\n    <tr>\n      <th>STD</th>\n      <td>18.292730</td>\n      <td>4.069573</td>\n      <td>0.036619</td>\n      <td>1.011684e+03</td>\n      <td>8.056920</td>\n      <td>0.094455</td>\n      <td>37.339355</td>\n      <td>0.061741</td>\n      <td>0.250010</td>\n      <td>0.500493</td>\n    </tr>\n    <tr>\n      <th>Variansi</th>\n      <td>334.623982</td>\n      <td>16.561426</td>\n      <td>0.001341</td>\n      <td>1.023504e+06</td>\n      <td>64.913953</td>\n      <td>0.008922</td>\n      <td>1394.227447</td>\n      <td>0.003812</td>\n      <td>0.062505</td>\n      <td>0.250493</td>\n    </tr>\n    <tr>\n      <th>Range</th>\n      <td>153.795469</td>\n      <td>29.071182</td>\n      <td>0.194085</td>\n      <td>5.141000e+03</td>\n      <td>40.747172</td>\n      <td>0.468972</td>\n      <td>291.822000</td>\n      <td>0.730158</td>\n      <td>1.024013</td>\n      <td>1.000000</td>\n    </tr>\n    <tr>\n      <th>Min</th>\n      <td>74.133114</td>\n      <td>39.906517</td>\n      <td>0.719916</td>\n      <td>2.579000e+03</td>\n      <td>56.666658</td>\n      <td>0.409927</td>\n      <td>197.015000</td>\n      <td>0.174590</td>\n      <td>1.440796</td>\n      <td>1.000000</td>\n    </tr>\n    <tr>\n      <th>Max</th>\n      <td>227.928583</td>\n      <td>68.977700</td>\n      <td>0.914001</td>\n      <td>7.720000e+03</td>\n      <td>97.413830</td>\n      <td>0.878899</td>\n      <td>488.837000</td>\n      <td>0.904748</td>\n      <td>2.464809</td>\n      <td>2.000000</td>\n    </tr>\n    <tr>\n      <th>25%</th>\n      <td>104.063393</td>\n      <td>51.192400</td>\n      <td>0.863673</td>\n      <td>4.166500e+03</td>\n      <td>71.743089</td>\n      <td>0.572602</td>\n      <td>255.854000</td>\n      <td>0.732088</td>\n      <td>1.983917</td>\n      <td>1.000000</td>\n    </tr>\n    <tr>\n      <th>50%</th>\n      <td>115.396744</td>\n      <td>53.727453</td>\n      <td>0.889996</td>\n      <td>4.855000e+03</td>\n      <td>77.628878</td>\n      <td>0.625731</td>\n      <td>279.955000</td>\n      <td>0.761403</td>\n      <td>2.193132</td>\n      <td>2.000000</td>\n    </tr>\n    <tr>\n      <th>75%</th>\n      <td>129.055961</td>\n      <td>56.309070</td>\n      <td>0.907613</td>\n      <td>5.650000e+03</td>\n      <td>83.625761</td>\n      <td>0.726830</td>\n      <td>305.786500</td>\n      <td>0.796387</td>\n      <td>2.382048</td>\n      <td>2.000000</td>\n    </tr>\n    <tr>\n      <th>IQR</th>\n      <td>24.992568</td>\n      <td>5.116671</td>\n      <td>0.043941</td>\n      <td>1.483500e+03</td>\n      <td>11.882671</td>\n      <td>0.154228</td>\n      <td>49.932500</td>\n      <td>0.064299</td>\n      <td>0.398130</td>\n      <td>1.000000</td>\n    </tr>\n    <tr>\n      <th>Skewness</th>\n      <td>0.765236</td>\n      <td>-0.007025</td>\n      <td>-1.620518</td>\n      <td>2.621088e-01</td>\n      <td>0.006750</td>\n      <td>0.494884</td>\n      <td>0.738875</td>\n      <td>-3.602930</td>\n      <td>-0.656561</td>\n      <td>-0.012061</td>\n    </tr>\n    <tr>\n      <th>Kurtosis</th>\n      <td>4.332895</td>\n      <td>0.483912</td>\n      <td>2.903678</td>\n      <td>-4.042606e-01</td>\n      <td>-0.463340</td>\n      <td>-0.743118</td>\n      <td>2.285155</td>\n      <td>29.976634</td>\n      <td>-0.434428</td>\n      <td>-2.007918</td>\n    </tr>\n  </tbody>\n</table>\n</div>"
     },
     "metadata": {},
     "execution_count": 113
    }
   ],
   "source": [
    "descstats = pd.DataFrame(data=descstats, index=['SumbuUtama', 'SumbuKecil', 'Keunikan', 'AreaBulatan', 'Diameter', 'KadarAir', 'Keliling', 'Bulatan', 'Ransum', 'Kelas'], columns=['Mean', 'Median', 'Modus', 'STD', 'Variansi', 'Range', 'Min', 'Max', '25%', '50%', '75%', 'IQR', 'Skewness', 'Kurtosis']).transpose()\n",
    "descstats"
   ]
  },
  {
   "cell_type": "code",
   "execution_count": null,
   "metadata": {},
   "outputs": [],
   "source": []
  }
 ]
}